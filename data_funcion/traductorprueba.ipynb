{
 "cells": [
  {
   "cell_type": "code",
   "execution_count": 1,
   "metadata": {},
   "outputs": [],
   "source": [
    "# Diccionario de codones\n",
    "codon_dictionary = {\n",
    "    'TCA' : 'S', 'TCC' : 'S', 'TCG' : 'S', 'TCT' : 'S',\n",
    "    'TTC' : 'F', 'TTT' : 'F',   'TTA' : 'L', 'TTG' : 'L', \n",
    "    'TAC' : 'Y', 'TAT' : 'Y',  'TAA' : '_',  'TAG' : '_', \n",
    "    'TGC' : 'C', 'TGT' : 'C',   'TGA' : '_',  'TGG' : 'W',    # Tryptophan\n",
    "    'CTA' : 'L', 'CTC' : 'L',  'CTG' : 'L',   'CTT' : 'L',    # Leucine\n",
    "    'CCA' : 'P', 'CCC' : 'P',  'CCG' : 'P',    # Proline\n",
    "    'CCT' : 'P', 'CAC' : 'H',  'CAT' : 'H', 'CAA' : 'Q',    # Glutamine\n",
    "    'CAG' : 'Q',    # Glutamine\n",
    "    'CGA' : 'R',    # Arginine\n",
    "    'CGC' : 'R',    # Arginine\n",
    "    'CGG' : 'R',    # Arginine\n",
    "    'CGT' : 'R',    # Arginine\n",
    "    'ATA' : 'I',    # Isoleucine\n",
    "    'ATC' : 'I',    # Isoleucine\n",
    "    'ATT' : 'I',    # Isoleucine\n",
    "    'ATG' : 'M',    # Methionine\n",
    "    'ACA' : 'T',    # Threonine\n",
    "    'ACC' : 'T',    # Threonine\n",
    "    'ACG' : 'T',    # Threonine\n",
    "    'ACT' : 'T',    # Threonine\n",
    "    'AAC' : 'N',    # Asparagine\n",
    "    'AAT' : 'N',    # Asparagine\n",
    "    'AAA' : 'K',    # Lysine\n",
    "    'AAG' : 'K',    # Lysine\n",
    "    'AGC' : 'S',    # Serine\n",
    "    'AGT' : 'S',    # Serine\n",
    "    'AGA' : 'R',    # Arginine\n",
    "    'AGG' : 'R',    # Arginine\n",
    "    'GTA' : 'V',    # Valine\n",
    "    'GTC' : 'V',    # Valine\n",
    "    'GTG' : 'V',    # Valine\n",
    "    'GTT' : 'V',    # Valine\n",
    "    'GCA' : 'A',    # Alanine\n",
    "    'GCC' : 'A',    # Alanine\n",
    "    'GCG' : 'A',    # Alanine\n",
    "    'GCT' : 'A',    # Alanine\n",
    "    'GAC' : 'D',    # Aspartic Acid\n",
    "    'GAT' : 'D',    # Aspartic Acid\n",
    "    'GAA' : 'E',    # Glutamic Acid\n",
    "    'GAG' : 'E',    # Glutamic Acid\n",
    "    'GGA' : 'G',    # Glycine\n",
    "    'GGC' : 'G',    # Glycine\n",
    "    'GGG' : 'G',    # Glycine\n",
    "    'GGT' : 'G',    # Glycine\n",
    "    }"
   ]
  },
  {
   "cell_type": "code",
   "execution_count": 2,
   "metadata": {},
   "outputs": [],
   "source": [
    "# importar el módulo que contiene a la función\n",
    "import seqprocessing as seqp"
   ]
  },
  {
   "cell_type": "code",
   "execution_count": 3,
   "metadata": {},
   "outputs": [
    {
     "data": {
      "text/plain": [
       "['ATGATGTACCCGAGCTAGCAGTAGCTGATCGATACCACATA', 'MMYPS']"
      ]
     },
     "execution_count": 3,
     "metadata": {},
     "output_type": "execute_result"
    }
   ],
   "source": [
    "# usar la función \n",
    "seq = \"CGATGATGTACCCGAGCTAGCAGTAGCTGATCGATACCACATA\"\n",
    "seqp.traductor(seq, codon_dictionary)"
   ]
  },
  {
   "cell_type": "code",
   "execution_count": 4,
   "metadata": {},
   "outputs": [
    {
     "data": {
      "text/plain": [
       "48.84"
      ]
     },
     "execution_count": 4,
     "metadata": {},
     "output_type": "execute_result"
    }
   ],
   "source": [
    "seqp.gcp(seq)"
   ]
  },
  {
   "cell_type": "code",
   "execution_count": 1,
   "metadata": {},
   "outputs": [],
   "source": [
    "import restenz"
   ]
  },
  {
   "cell_type": "code",
   "execution_count": 3,
   "metadata": {},
   "outputs": [
    {
     "data": {
      "text/plain": [
       "[['CGATGATGAATTC', 13],\n",
       " ['GTACCCGAGCTGAATTCAGCAGAATTCAGCTGATCGATACCAGAATTCCATA', 52]]"
      ]
     },
     "execution_count": 3,
     "metadata": {},
     "output_type": "execute_result"
    }
   ],
   "source": [
    "seq = \"CGATGATGAATTCGTACCCGAGCTGAATTCAGCAGAATTCAGCTGATCGATACCAGAATTCCATA\"\n",
    "restenz.ecor1(seq, \"GAATTC\")"
   ]
  }
 ],
 "metadata": {
  "kernelspec": {
   "display_name": "Python 3",
   "language": "python",
   "name": "python3"
  },
  "language_info": {
   "codemirror_mode": {
    "name": "ipython",
    "version": 3
   },
   "file_extension": ".py",
   "mimetype": "text/x-python",
   "name": "python",
   "nbconvert_exporter": "python",
   "pygments_lexer": "ipython3",
   "version": "3.10.8"
  },
  "orig_nbformat": 4
 },
 "nbformat": 4,
 "nbformat_minor": 2
}
